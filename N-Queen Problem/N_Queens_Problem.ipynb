{
  "nbformat": 4,
  "nbformat_minor": 0,
  "metadata": {
    "colab": {
      "provenance": []
    },
    "kernelspec": {
      "name": "python3",
      "display_name": "Python 3"
    },
    "language_info": {
      "name": "python"
    }
  },
  "cells": [
    {
      "cell_type": "code",
      "execution_count": null,
      "metadata": {
        "colab": {
          "base_uri": "https://localhost:8080/",
          "height": 447
        },
        "id": "4w5B5nWPskce",
        "outputId": "c4fb9e97-6117-471d-e2f2-ae411b8eb3f2"
      },
      "outputs": [
        {
          "name": "stdout",
          "output_type": "stream",
          "text": [
            "Enter the number of queens (N): 8\n"
          ]
        },
        {
          "output_type": "display_data",
          "data": {
            "text/plain": [
              "<Figure size 640x480 with 1 Axes>"
            ],
            "image/png": "[encoded data removed]"
          },
          "metadata": {}
        }
      ],
      "source": [
        "import matplotlib.pyplot as plt\n",
        "import numpy as np\n",
        "\n",
        "def visualizeBoard(board, N):\n",
        "    fig, ax = plt.subplots()\n",
        "\n",
        "    # Create the checkerboard pattern\n",
        "    for i in range(N):\n",
        "        for j in range(N):\n",
        "            color = 'white' if (i + j) % 2 == 0 else 'black'\n",
        "            rect = plt.Rectangle((j, i), 1, 1, facecolor=color)\n",
        "            ax.add_patch(rect)\n",
        "            if board[i][j] == 1:\n",
        "                ax.text(j + 0.5, i + 0.5, 'Q', va='center', ha='center', fontsize=20, color='darkgreen', fontweight='bold')\n",
        "\n",
        "    ax.set_xlim(0, N)\n",
        "    ax.set_ylim(0, N)\n",
        "    ax.set_aspect('equal')\n",
        "    ax.axis('off')\n",
        "    plt.gca().invert_yaxis()  # Flip the board to match typical chess orientation\n",
        "    plt.title(f\"{N}-Queens Solution\", fontsize=16)\n",
        "    plt.show()\n",
        "\n",
        "def isSafe(board, row, col, N):\n",
        "    for i in range(col):\n",
        "        if board[row][i] == 1:\n",
        "            return False\n",
        "    for i, j in zip(range(row, -1, -1), range(col, -1, -1)):\n",
        "        if board[i][j] == 1:\n",
        "            return False\n",
        "    for i, j in zip(range(row, N, 1), range(col, -1, -1)):\n",
        "        if board[i][j] == 1:\n",
        "            return False\n",
        "    return True\n",
        "\n",
        "def solveNQUtil(board, col, N):\n",
        "    if col >= N:\n",
        "        return True\n",
        "    for i in range(N):\n",
        "        if isSafe(board, i, col, N):\n",
        "            board[i][col] = 1\n",
        "            if solveNQUtil(board, col + 1, N) == True:\n",
        "                return True\n",
        "            board[i][col] = 0\n",
        "    return False\n",
        "\n",
        "def solveNQ(N):\n",
        "    board = [[0 for _ in range(N)] for _ in range(N)]\n",
        "    if solveNQUtil(board, 0, N) == False:\n",
        "        print(\"No solution exists for N = 2 or N = 3.\")\n",
        "    else:\n",
        "        visualizeBoard(board, N)\n",
        "\n",
        "# Get input from user\n",
        "try:\n",
        "    N = int(input(\"Enter the number of queens (N): \"))\n",
        "    if N < 1:\n",
        "        print(\"Please enter a positive integer greater than 0.\")\n",
        "    else:\n",
        "        solveNQ(N)\n",
        "except ValueError:\n",
        "    print(\"Please enter a valid integer.\")\n"
      ]
    }
  ]
}