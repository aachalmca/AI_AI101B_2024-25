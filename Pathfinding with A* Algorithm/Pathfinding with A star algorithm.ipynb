{
  "nbformat": 4,
  "nbformat_minor": 0,
  "metadata": {
    "colab": {
      "provenance": []
    },
    "kernelspec": {
      "name": "python3",
      "display_name": "Python 3"
    },
    "language_info": {
      "name": "python"
    }
  },
  "cells": [
    {
      "cell_type": "code",
      "execution_count": null,
      "metadata": {
        "colab": {
          "base_uri": "https://localhost:8080/"
        },
        "id": "KP7epiig7xal",
        "outputId": "f2a00a6e-af4f-4527-946f-ef1c6045187f"
      },
      "outputs": [
        {
          "output_type": "stream",
          "name": "stdout",
          "text": [
            "Path found: [(0, 0), (1, 0), (2, 0), (3, 0), (3, 1), (4, 1), (4, 2)]\n"
          ]
        }
      ],
      "source": [
        "import heapq\n",
        "\n",
        "class Node:\n",
        "    def __init__(self, x, y, reachable=True):\n",
        "        self.x = x\n",
        "        self.y = y\n",
        "        self.reachable = reachable\n",
        "        self.g = float('inf')  # Cost from start node to this node\n",
        "        self.h = 0  # Heuristic estimate from this node to end node\n",
        "        self.parent = None\n",
        "\n",
        "    def f(self):\n",
        "        return self.g + self.h\n",
        "\n",
        "    def __lt__(self, other):  # ✅ This fixes the error!\n",
        "        return self.f() < other.f()\n",
        "\n",
        "def astar_search(grid, start, end):\n",
        "    open_list = []\n",
        "    closed_set = set()\n",
        "\n",
        "    heapq.heappush(open_list, (0, start))\n",
        "    start.g = 0\n",
        "    start.h = heuristic(start, end)\n",
        "\n",
        "    while open_list:\n",
        "        current = heapq.heappop(open_list)[1]\n",
        "\n",
        "        if current == end:\n",
        "            path = []\n",
        "            while current.parent:\n",
        "                path.append((current.x, current.y))\n",
        "                current = current.parent\n",
        "            path.append((current.x, current.y))\n",
        "            return path[::-1]\n",
        "\n",
        "        closed_set.add(current)\n",
        "\n",
        "        for neighbor in neighbors(grid, current):\n",
        "            if neighbor in closed_set or not neighbor.reachable:\n",
        "                continue\n",
        "\n",
        "            tentative_g = current.g + 1  # Assuming each step has a cost of 1\n",
        "\n",
        "            if tentative_g < neighbor.g:\n",
        "                neighbor.parent = current\n",
        "                neighbor.g = tentative_g\n",
        "                neighbor.h = heuristic(neighbor, end)\n",
        "                heapq.heappush(open_list, (neighbor.f(), neighbor))  # ✅ Now it works!\n",
        "\n",
        "    return None  # No path found\n",
        "\n",
        "def heuristic(node, goal):\n",
        "    return abs(node.x - goal.x) + abs(node.y - goal.y)\n",
        "\n",
        "def neighbors(grid, node):\n",
        "    neighbors = []\n",
        "    for dx, dy in [(-1, 0), (1, 0), (0, -1), (0, 1)]:  # Assuming 4-connected grid\n",
        "        x, y = node.x + dx, node.y + dy\n",
        "        if 0 <= x < len(grid) and 0 <= y < len(grid[0]):\n",
        "            neighbors.append(grid[x][y])\n",
        "    return neighbors\n",
        "\n",
        "# Example usage:\n",
        "if __name__ == \"__main__\":\n",
        "    # Example grid (0 for reachable, 1 for obstacles)\n",
        "    grid = [\n",
        "        [Node(0, 0), Node(0, 1, False), Node(0, 2)],\n",
        "        [Node(1, 0), Node(1, 1), Node(1, 2)],\n",
        "        [Node(2, 0), Node(2, 1, False), Node(2, 2)],\n",
        "        [Node(3, 0), Node(3, 1), Node(3, 2)],\n",
        "        [Node(4, 0,False), Node(4, 1), Node(4, 2)],\n",
        "    ]\n",
        "\n",
        "    start = grid[0][0]\n",
        "    end = grid[4][2]\n",
        "\n",
        "    path = astar_search(grid, start, end)\n",
        "    if path:\n",
        "        print(\"Path found:\", path)\n",
        "    else:\n",
        "        print(\"No path found\")\n"
      ]
    }
  ]
}